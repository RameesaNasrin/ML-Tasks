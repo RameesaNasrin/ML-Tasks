{
 "cells": [
  {
   "cell_type": "markdown",
   "id": "e7c00681-ce71-4186-91d7-558bde3f819a",
   "metadata": {},
   "source": [
    "##### Q1.Suppose a child psychologist claims that the average time working mothers spend talking to their children is at least 11 minutes per day.\n",
    "##### You conduct a random sample of 1000 working mothers and find they spend an average of 11.5 minutes per day talking with their children. \n",
    "##### Assume prior research suggests the population standard deviation is 2.3 minutes.\n",
    "##### Conduct a test with a level of significance of alpha = 0.05."
   ]
  },
  {
   "cell_type": "code",
   "execution_count": 1,
   "id": "7848f534-b07a-44e8-b7a4-1b3233507931",
   "metadata": {},
   "outputs": [],
   "source": [
    "import scipy.stats as stats\n",
    "import numpy as np\n"
   ]
  },
  {
   "cell_type": "code",
   "execution_count": 2,
   "id": "420cc874-2ee9-4e2a-a8ed-34fb9367adb3",
   "metadata": {},
   "outputs": [],
   "source": [
    "population_mean=11  # population mean under null hypothesis\n",
    "sample_size=1000    \n",
    "sample_mean=11.5\n",
    "population_std=2.3  # standard deviation of population\n",
    "alpha=0.05          # significance level"
   ]
  },
  {
   "cell_type": "code",
   "execution_count": 3,
   "id": "7ee207b0-8c65-4043-b733-8b8ace64ab39",
   "metadata": {},
   "outputs": [
    {
     "name": "stdout",
     "output_type": "stream",
     "text": [
      "Z_score :  6.874516652539955\n",
      "Critical_value : 1.6448536269514722\n"
     ]
    }
   ],
   "source": [
    "# calculate z test statistics and critical value\n",
    "z_score=(sample_mean-population_mean)/(population_std/np.sqrt(sample_size))\n",
    "critical_value=stats.norm.ppf(1-alpha)\n",
    "# print the z score and critical value\n",
    "print(\"Z_score : \",z_score)\n",
    "print(\"Critical_value :\",critical_value)"
   ]
  },
  {
   "cell_type": "code",
   "execution_count": 4,
   "id": "abbf2cfb-c947-4ae1-92cd-7dfba490f2c5",
   "metadata": {},
   "outputs": [
    {
     "name": "stdout",
     "output_type": "stream",
     "text": [
      "Reject null hypothesis\n"
     ]
    }
   ],
   "source": [
    "# compare the z score with the critical value and make a decision\n",
    "if z_score>critical_value:\n",
    "    print(\"Reject null hypothesis\")\n",
    "else:\n",
    "    print(\"Fail to reject null hypothesis\")"
   ]
  },
  {
   "cell_type": "markdown",
   "id": "5b720859-04be-4f30-a527-211a9bbfbb18",
   "metadata": {},
   "source": [
    "###### The Z-score is 6.8745 This value is greater than the critical value of 1.64485, making the results statistically significant."
   ]
  },
  {
   "cell_type": "markdown",
   "id": "60350de2-b26a-4390-a1c5-003e47522820",
   "metadata": {},
   "source": [
    "###### We can reject the null and conclude that the mean time working mothers spend talking to their children is does not equal 11. Based on the sample mean of 11.5, we know the mean time is higher."
   ]
  },
  {
   "cell_type": "code",
   "execution_count": null,
   "id": "f821573e-24fc-4852-afe1-a856dcce9073",
   "metadata": {},
   "outputs": [],
   "source": []
  },
  {
   "cell_type": "markdown",
   "id": "e51d3f6d-c0e1-4ac1-a0be-082e4997e968",
   "metadata": {},
   "source": [
    "##### Q2. A coffee shop claims that their average wait time for customers is less than 5 minutes. \n",
    "##### To test this claim, a sample of 40 customers is taken, and their wait times are recorded. \n",
    "##### The sample mean wait time is found to be 4.6 minutes with a standard deviation of 0.8 minutes.\n",
    "##### Perform a hypothesis test at a significance level of 0.05 and determine whether there is enough evidence to support the coffee shop's claim."
   ]
  },
  {
   "cell_type": "code",
   "execution_count": 5,
   "id": "d1f9824c-8975-42ec-98fd-61b576c5b45a",
   "metadata": {},
   "outputs": [],
   "source": [
    "import scipy.stats as stats\n",
    "import numpy as np"
   ]
  },
  {
   "cell_type": "code",
   "execution_count": 6,
   "id": "d455feab-cb69-44e0-ab0a-320d4cbd7a4e",
   "metadata": {},
   "outputs": [],
   "source": [
    "population_mean=5   # population mean under null hypothesis\n",
    "sample_size=40\n",
    "sample_mean=4.6\n",
    "population_std=0.8  # standard deviation of population\n",
    "alpha=0.05           # significance level"
   ]
  },
  {
   "cell_type": "code",
   "execution_count": 7,
   "id": "91b8cc28-5b73-421a-a11f-0004c8469bab",
   "metadata": {},
   "outputs": [
    {
     "name": "stdout",
     "output_type": "stream",
     "text": [
      "t_score :  -3.162277660168382\n",
      "Critical_value : 1.6848751217112248\n"
     ]
    }
   ],
   "source": [
    "# calculate t test statistics and critical value\n",
    "t_score = (sample_mean-population_mean)/(population_std/np.sqrt(sample_size))\n",
    "degree_freedom = sample_size-1\n",
    "critical_value = stats.t.ppf(1-alpha,degree_freedom)\n",
    "# print the z score and critical value\n",
    "print(\"t_score : \",t_score)\n",
    "print(\"Critical_value :\",critical_value)"
   ]
  },
  {
   "cell_type": "code",
   "execution_count": 8,
   "id": "e71bdec8-3735-4c98-86c1-6e6c36aa86af",
   "metadata": {},
   "outputs": [
    {
     "name": "stdout",
     "output_type": "stream",
     "text": [
      "p is: 0.0015137112496894007\n",
      "pvalue is: 0.0030274224993788014\n"
     ]
    }
   ],
   "source": [
    "#CALCULATING P-VALUE\n",
    "#We will use scipy stats function to calculate p value as shown below\n",
    "p = stats.t.cdf(t_score, degree_freedom)\n",
    "pvalue = stats.t.sf(np.abs(t_score), degree_freedom)*2\n",
    "print(\"p is:\", p)\n",
    "print(\"pvalue is:\", pvalue)\n"
   ]
  },
  {
   "cell_type": "code",
   "execution_count": 9,
   "id": "8bed2ca2-0c28-4c7e-9019-1091160073ee",
   "metadata": {},
   "outputs": [
    {
     "name": "stdout",
     "output_type": "stream",
     "text": [
      "Reject null hypothesis \n"
     ]
    }
   ],
   "source": [
    "# compare p value with alpha and make a decision\n",
    "if pvalue > 0.05:\n",
    " print('Fail To Reject null hypothesis')\n",
    "else:\n",
    " print('Reject null hypothesis ')"
   ]
  },
  {
   "cell_type": "markdown",
   "id": "896b896c-9ef8-4b52-837f-99aea85f81fe",
   "metadata": {},
   "source": [
    "###### So we reject Ho here & accept HA, our alternative hypothesis.\n",
    "\n",
    "###### Therefore, we can easily say that there is enough evidence to support the coffee shop's claim that the average wait time for customers is less than 5 minutes."
   ]
  },
  {
   "cell_type": "code",
   "execution_count": null,
   "id": "a2f6f7d2-b7ea-417d-89c2-d80ca1063947",
   "metadata": {},
   "outputs": [],
   "source": []
  }
 ],
 "metadata": {
  "kernelspec": {
   "display_name": "Python 3 (ipykernel)",
   "language": "python",
   "name": "python3"
  },
  "language_info": {
   "codemirror_mode": {
    "name": "ipython",
    "version": 3
   },
   "file_extension": ".py",
   "mimetype": "text/x-python",
   "name": "python",
   "nbconvert_exporter": "python",
   "pygments_lexer": "ipython3",
   "version": "3.12.1"
  }
 },
 "nbformat": 4,
 "nbformat_minor": 5
}
